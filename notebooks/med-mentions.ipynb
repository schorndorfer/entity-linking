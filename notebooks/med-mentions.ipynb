{
 "cells": [
  {
   "cell_type": "code",
   "execution_count": 1,
   "id": "3240f79f-f4ce-4829-96fa-ab718c0fb3d5",
   "metadata": {},
   "outputs": [
    {
     "name": "stdout",
     "output_type": "stream",
     "text": [
      "CONFIG_FILE_PATH: /home/wkt406/miniconda3/envs/torch-env/lib/python3.10/site-packages/elinker/data/config.yml\n"
     ]
    }
   ],
   "source": [
    "from pathlib import Path\n",
    "import pandas as pd\n",
    "import elinker"
   ]
  },
  {
   "cell_type": "markdown",
   "id": "a40bbe1b-3911-4c90-8e52-762d5c2b1226",
   "metadata": {},
   "source": [
    "# Read in Data"
   ]
  },
  {
   "cell_type": "code",
   "execution_count": 2,
   "id": "90192c2e-cb7f-48a3-8ad3-e8ea864f0d60",
   "metadata": {},
   "outputs": [],
   "source": [
    "base_path = Path(\"../data/MedMentions\")"
   ]
  },
  {
   "cell_type": "code",
   "execution_count": 3,
   "id": "0b038abb-2ecb-4969-b815-6a4a6f32f228",
   "metadata": {},
   "outputs": [],
   "source": [
    "corpus = \"full\"\n",
    "# corpus = \"st21pv\""
   ]
  },
  {
   "cell_type": "code",
   "execution_count": 4,
   "id": "79bbdf5e-5f21-41aa-81cb-8ae7f61c0875",
   "metadata": {},
   "outputs": [],
   "source": [
    "med_mentions = elinker.datasets.med_mentions(base_path/f\"{corpus}/data/corpus_pubtator.txt\")\n",
    "doc_df = med_mentions[0]\n",
    "mention_df = med_mentions[1]"
   ]
  },
  {
   "cell_type": "code",
   "execution_count": 5,
   "id": "62413af7-d15e-4de9-b402-8fae42136455",
   "metadata": {},
   "outputs": [
    {
     "data": {
      "text/plain": [
       "(4392, 3)"
      ]
     },
     "execution_count": 5,
     "metadata": {},
     "output_type": "execute_result"
    }
   ],
   "source": [
    "doc_df.shape"
   ]
  },
  {
   "cell_type": "code",
   "execution_count": 6,
   "id": "399c1f00-8a6a-4ef9-9f34-a8341d1b168e",
   "metadata": {},
   "outputs": [
    {
     "data": {
      "text/plain": [
       "(352496, 6)"
      ]
     },
     "execution_count": 6,
     "metadata": {},
     "output_type": "execute_result"
    }
   ],
   "source": [
    "mention_df.shape"
   ]
  },
  {
   "cell_type": "code",
   "execution_count": 7,
   "id": "3e0c0fd8-b323-47cf-9772-1da2c7a85e26",
   "metadata": {},
   "outputs": [
    {
     "data": {
      "text/plain": [
       "34724"
      ]
     },
     "execution_count": 7,
     "metadata": {},
     "output_type": "execute_result"
    }
   ],
   "source": [
    "len(set(mention_df['entity_id']))"
   ]
  },
  {
   "cell_type": "markdown",
   "id": "7cfd7979-71cc-49d9-b4df-d14ba62dfc29",
   "metadata": {},
   "source": [
    "# Assign each PMID to dev, test, or training"
   ]
  },
  {
   "cell_type": "code",
   "execution_count": 8,
   "id": "0f0d913f-f582-4ed6-985b-4ffc632167bf",
   "metadata": {},
   "outputs": [],
   "source": [
    "with open(base_path/\"full/data/corpus_pubtator_pmids_all.txt\") as file:\n",
    "    lines = file.readlines()\n",
    "    all_pmids = [line.rstrip() for line in lines]\n",
    "    \n",
    "with open(base_path/\"full/data/corpus_pubtator_pmids_dev.txt\") as file:\n",
    "    lines = file.readlines()\n",
    "    dev_pmids = [line.rstrip() for line in lines]\n",
    "    \n",
    "with open(base_path/\"full/data/corpus_pubtator_pmids_test.txt\") as file:\n",
    "    lines = file.readlines()\n",
    "    test_pmids = [line.rstrip() for line in lines]\n",
    "    \n",
    "with open(base_path/\"full/data/corpus_pubtator_pmids_trng.txt\") as file:\n",
    "    lines = file.readlines()\n",
    "    train_pmids = [line.rstrip() for line in lines]"
   ]
  },
  {
   "cell_type": "code",
   "execution_count": 9,
   "id": "9eafa853-af13-47e7-8e54-c539947e05bb",
   "metadata": {},
   "outputs": [
    {
     "data": {
      "text/plain": [
       "train    2635\n",
       "test      879\n",
       "dev       878\n",
       "Name: split, dtype: int64"
      ]
     },
     "execution_count": 9,
     "metadata": {},
     "output_type": "execute_result"
    }
   ],
   "source": [
    "doc_df['split'] = None\n",
    "doc_df.loc[doc_df.pmid.isin(train_pmids), 'split'] = 'train'\n",
    "doc_df.loc[doc_df.pmid.isin(dev_pmids), 'split'] = 'dev'\n",
    "doc_df.loc[doc_df.pmid.isin(test_pmids), 'split'] = 'test'\n",
    "doc_df['split'].value_counts()"
   ]
  },
  {
   "cell_type": "code",
   "execution_count": 10,
   "id": "129b5fc2-2651-4d6b-a3d2-3e043413941b",
   "metadata": {},
   "outputs": [],
   "source": [
    "doc_df.to_parquet(base_path/f\"doc_{corpus}.parquet\", index=False)\n",
    "mention_df.to_parquet(base_path/f\"mention_{corpus}.parquet\", index=False)"
   ]
  },
  {
   "cell_type": "markdown",
   "id": "3432af80-9e77-437a-8a14-dbbeeb71c74c",
   "metadata": {},
   "source": [
    "# Read Parquet Files"
   ]
  },
  {
   "cell_type": "code",
   "execution_count": 11,
   "id": "7b94966a-25d8-4f89-adc5-6433159d944d",
   "metadata": {},
   "outputs": [],
   "source": [
    "doc_df2 = pd.read_parquet(base_path/f\"doc_{corpus}.parquet\")\n",
    "mention_df2 = pd.read_parquet(base_path/f\"mention_{corpus}.parquet\")"
   ]
  },
  {
   "cell_type": "code",
   "execution_count": 12,
   "id": "4a056795-a1a4-4243-8019-b6a3f14e4209",
   "metadata": {},
   "outputs": [
    {
     "data": {
      "text/html": [
       "<div>\n",
       "<style scoped>\n",
       "    .dataframe tbody tr th:only-of-type {\n",
       "        vertical-align: middle;\n",
       "    }\n",
       "\n",
       "    .dataframe tbody tr th {\n",
       "        vertical-align: top;\n",
       "    }\n",
       "\n",
       "    .dataframe thead th {\n",
       "        text-align: right;\n",
       "    }\n",
       "</style>\n",
       "<table border=\"1\" class=\"dataframe\">\n",
       "  <thead>\n",
       "    <tr style=\"text-align: right;\">\n",
       "      <th></th>\n",
       "      <th>pmid</th>\n",
       "      <th>title</th>\n",
       "      <th>abstract</th>\n",
       "      <th>split</th>\n",
       "    </tr>\n",
       "  </thead>\n",
       "  <tbody>\n",
       "    <tr>\n",
       "      <th>0</th>\n",
       "      <td>25763772</td>\n",
       "      <td>DCTN4 as a modifier of chronic Pseudomonas aer...</td>\n",
       "      <td>Pseudomonas aeruginosa (Pa) infection in cysti...</td>\n",
       "      <td>train</td>\n",
       "    </tr>\n",
       "    <tr>\n",
       "      <th>1</th>\n",
       "      <td>25847295</td>\n",
       "      <td>Nonylphenol diethoxylate inhibits apoptosis in...</td>\n",
       "      <td>Nonylphenol and short-chain nonylphenol ethoxy...</td>\n",
       "      <td>test</td>\n",
       "    </tr>\n",
       "    <tr>\n",
       "      <th>2</th>\n",
       "      <td>26316050</td>\n",
       "      <td>Prevascularized silicon membranes for the enha...</td>\n",
       "      <td>Recent advances in drug delivery and sensing d...</td>\n",
       "      <td>train</td>\n",
       "    </tr>\n",
       "    <tr>\n",
       "      <th>3</th>\n",
       "      <td>26406200</td>\n",
       "      <td>Seated maximum flexion: An alternative to stan...</td>\n",
       "      <td>The flexion - relaxation phenomenon (FRP) in s...</td>\n",
       "      <td>train</td>\n",
       "    </tr>\n",
       "    <tr>\n",
       "      <th>4</th>\n",
       "      <td>26424709</td>\n",
       "      <td>The Relationship Between Distance and Post-ope...</td>\n",
       "      <td>To date, there is no research on voluntary med...</td>\n",
       "      <td>train</td>\n",
       "    </tr>\n",
       "  </tbody>\n",
       "</table>\n",
       "</div>"
      ],
      "text/plain": [
       "       pmid                                              title  \\\n",
       "0  25763772  DCTN4 as a modifier of chronic Pseudomonas aer...   \n",
       "1  25847295  Nonylphenol diethoxylate inhibits apoptosis in...   \n",
       "2  26316050  Prevascularized silicon membranes for the enha...   \n",
       "3  26406200  Seated maximum flexion: An alternative to stan...   \n",
       "4  26424709  The Relationship Between Distance and Post-ope...   \n",
       "\n",
       "                                            abstract  split  \n",
       "0  Pseudomonas aeruginosa (Pa) infection in cysti...  train  \n",
       "1  Nonylphenol and short-chain nonylphenol ethoxy...   test  \n",
       "2  Recent advances in drug delivery and sensing d...  train  \n",
       "3  The flexion - relaxation phenomenon (FRP) in s...  train  \n",
       "4  To date, there is no research on voluntary med...  train  "
      ]
     },
     "execution_count": 12,
     "metadata": {},
     "output_type": "execute_result"
    }
   ],
   "source": [
    "doc_df2.head()"
   ]
  },
  {
   "cell_type": "code",
   "execution_count": 13,
   "id": "e3a765d1-eaab-40c5-afef-f2954b9112db",
   "metadata": {},
   "outputs": [
    {
     "data": {
      "text/plain": [
       "(4392, 4)"
      ]
     },
     "execution_count": 13,
     "metadata": {},
     "output_type": "execute_result"
    }
   ],
   "source": [
    "doc_df2.shape"
   ]
  },
  {
   "cell_type": "code",
   "execution_count": 14,
   "id": "901a65a9-3747-4da0-ae20-bd4d8d822011",
   "metadata": {},
   "outputs": [
    {
     "data": {
      "text/html": [
       "<div>\n",
       "<style scoped>\n",
       "    .dataframe tbody tr th:only-of-type {\n",
       "        vertical-align: middle;\n",
       "    }\n",
       "\n",
       "    .dataframe tbody tr th {\n",
       "        vertical-align: top;\n",
       "    }\n",
       "\n",
       "    .dataframe thead th {\n",
       "        text-align: right;\n",
       "    }\n",
       "</style>\n",
       "<table border=\"1\" class=\"dataframe\">\n",
       "  <thead>\n",
       "    <tr style=\"text-align: right;\">\n",
       "      <th></th>\n",
       "      <th>pmid</th>\n",
       "      <th>start_index</th>\n",
       "      <th>end_index</th>\n",
       "      <th>text_segment</th>\n",
       "      <th>sem_type_id</th>\n",
       "      <th>entity_id</th>\n",
       "    </tr>\n",
       "  </thead>\n",
       "  <tbody>\n",
       "    <tr>\n",
       "      <th>0</th>\n",
       "      <td>25763772</td>\n",
       "      <td>0</td>\n",
       "      <td>5</td>\n",
       "      <td>DCTN4</td>\n",
       "      <td>T116,T123</td>\n",
       "      <td>C4308010</td>\n",
       "    </tr>\n",
       "    <tr>\n",
       "      <th>1</th>\n",
       "      <td>25763772</td>\n",
       "      <td>23</td>\n",
       "      <td>63</td>\n",
       "      <td>chronic Pseudomonas aeruginosa infection</td>\n",
       "      <td>T047</td>\n",
       "      <td>C0854135</td>\n",
       "    </tr>\n",
       "    <tr>\n",
       "      <th>2</th>\n",
       "      <td>25763772</td>\n",
       "      <td>67</td>\n",
       "      <td>82</td>\n",
       "      <td>cystic fibrosis</td>\n",
       "      <td>T047</td>\n",
       "      <td>C0010674</td>\n",
       "    </tr>\n",
       "    <tr>\n",
       "      <th>3</th>\n",
       "      <td>25763772</td>\n",
       "      <td>83</td>\n",
       "      <td>120</td>\n",
       "      <td>Pseudomonas aeruginosa (Pa) infection</td>\n",
       "      <td>T047</td>\n",
       "      <td>C0854135</td>\n",
       "    </tr>\n",
       "    <tr>\n",
       "      <th>4</th>\n",
       "      <td>25763772</td>\n",
       "      <td>124</td>\n",
       "      <td>139</td>\n",
       "      <td>cystic fibrosis</td>\n",
       "      <td>T047</td>\n",
       "      <td>C0010674</td>\n",
       "    </tr>\n",
       "  </tbody>\n",
       "</table>\n",
       "</div>"
      ],
      "text/plain": [
       "       pmid start_index end_index                              text_segment  \\\n",
       "0  25763772           0         5                                     DCTN4   \n",
       "1  25763772          23        63  chronic Pseudomonas aeruginosa infection   \n",
       "2  25763772          67        82                           cystic fibrosis   \n",
       "3  25763772          83       120     Pseudomonas aeruginosa (Pa) infection   \n",
       "4  25763772         124       139                           cystic fibrosis   \n",
       "\n",
       "  sem_type_id entity_id  \n",
       "0   T116,T123  C4308010  \n",
       "1        T047  C0854135  \n",
       "2        T047  C0010674  \n",
       "3        T047  C0854135  \n",
       "4        T047  C0010674  "
      ]
     },
     "execution_count": 14,
     "metadata": {},
     "output_type": "execute_result"
    }
   ],
   "source": [
    "mention_df2.head()"
   ]
  },
  {
   "cell_type": "code",
   "execution_count": 15,
   "id": "0e505dcf-5b43-487c-ad50-a88ea128bd2a",
   "metadata": {},
   "outputs": [
    {
     "data": {
      "text/plain": [
       "(352496, 6)"
      ]
     },
     "execution_count": 15,
     "metadata": {},
     "output_type": "execute_result"
    }
   ],
   "source": [
    "mention_df2.shape"
   ]
  },
  {
   "cell_type": "code",
   "execution_count": 30,
   "id": "7315f37d-8c63-4a94-81a3-64ae413c9d6e",
   "metadata": {},
   "outputs": [],
   "source": [
    "t191_mentions = mention_df2[mention_df['sem_type_id'] == 'T191']"
   ]
  },
  {
   "cell_type": "code",
   "execution_count": 32,
   "id": "8f996f3a-c454-4d63-9f2d-3dfddf3c8e6e",
   "metadata": {},
   "outputs": [],
   "source": [
    "pmids = set(t191_mentions.pmid)"
   ]
  },
  {
   "cell_type": "code",
   "execution_count": 35,
   "id": "4fe7c514-4edc-4cc1-b6c9-b28178dfe179",
   "metadata": {},
   "outputs": [],
   "source": [
    "t191_pmids = doc_df2[doc_df2['pmid'].isin(pmids)]"
   ]
  },
  {
   "cell_type": "code",
   "execution_count": 38,
   "id": "ce141400-e11e-46e6-bb20-966d3d59cad2",
   "metadata": {},
   "outputs": [
    {
     "data": {
      "text/html": [
       "<div>\n",
       "<style scoped>\n",
       "    .dataframe tbody tr th:only-of-type {\n",
       "        vertical-align: middle;\n",
       "    }\n",
       "\n",
       "    .dataframe tbody tr th {\n",
       "        vertical-align: top;\n",
       "    }\n",
       "\n",
       "    .dataframe thead th {\n",
       "        text-align: right;\n",
       "    }\n",
       "</style>\n",
       "<table border=\"1\" class=\"dataframe\">\n",
       "  <thead>\n",
       "    <tr style=\"text-align: right;\">\n",
       "      <th></th>\n",
       "      <th>pmid</th>\n",
       "      <th>title</th>\n",
       "      <th>abstract</th>\n",
       "      <th>split</th>\n",
       "    </tr>\n",
       "  </thead>\n",
       "  <tbody>\n",
       "    <tr>\n",
       "      <th>13</th>\n",
       "      <td>26944725</td>\n",
       "      <td>Impact of totally laparoscopic combined manage...</td>\n",
       "      <td>Thanks to widespread diffusion of minimally in...</td>\n",
       "      <td>train</td>\n",
       "    </tr>\n",
       "    <tr>\n",
       "      <th>17</th>\n",
       "      <td>27086366</td>\n",
       "      <td>The Role of TRAF4 and B3GAT1 Gene Expression i...</td>\n",
       "      <td>Mastocytosis is an uncommon disease classified...</td>\n",
       "      <td>train</td>\n",
       "    </tr>\n",
       "    <tr>\n",
       "      <th>47</th>\n",
       "      <td>27237979</td>\n",
       "      <td>MiR-211 is epigenetically regulated by DNMT1 m...</td>\n",
       "      <td>MiR-211 has strong inhibitive effects on melan...</td>\n",
       "      <td>train</td>\n",
       "    </tr>\n",
       "    <tr>\n",
       "      <th>70</th>\n",
       "      <td>27246120</td>\n",
       "      <td>Assessment of laparoscopic stomach preserving ...</td>\n",
       "      <td>Along with the marked increase in early gastri...</td>\n",
       "      <td>train</td>\n",
       "    </tr>\n",
       "    <tr>\n",
       "      <th>87</th>\n",
       "      <td>27252416</td>\n",
       "      <td>Heterogeneous Mechanisms of Primary and Acquir...</td>\n",
       "      <td>To identify novel mechanisms of resistance to ...</td>\n",
       "      <td>train</td>\n",
       "    </tr>\n",
       "    <tr>\n",
       "      <th>...</th>\n",
       "      <td>...</td>\n",
       "      <td>...</td>\n",
       "      <td>...</td>\n",
       "      <td>...</td>\n",
       "    </tr>\n",
       "    <tr>\n",
       "      <th>4366</th>\n",
       "      <td>28544601</td>\n",
       "      <td>The impact of noninvasive follicular thyroid n...</td>\n",
       "      <td>A recent revision in thyroid tumor nomenclatur...</td>\n",
       "      <td>train</td>\n",
       "    </tr>\n",
       "    <tr>\n",
       "      <th>4370</th>\n",
       "      <td>28545358</td>\n",
       "      <td>Molecular Imaging of Tumor Angiogenesis and Th...</td>\n",
       "      <td>Angiogenesis is critical for the growth of tum...</td>\n",
       "      <td>train</td>\n",
       "    </tr>\n",
       "    <tr>\n",
       "      <th>4372</th>\n",
       "      <td>28545416</td>\n",
       "      <td>The role of Indonesian patients' health behavi...</td>\n",
       "      <td>With an estimated 13,000 newly diagnosed patie...</td>\n",
       "      <td>train</td>\n",
       "    </tr>\n",
       "    <tr>\n",
       "      <th>4379</th>\n",
       "      <td>28548949</td>\n",
       "      <td>Dietary grape seed proanthocyanidins inactivat...</td>\n",
       "      <td>Ultraviolet B (UVB) radiation induces regulato...</td>\n",
       "      <td>train</td>\n",
       "    </tr>\n",
       "    <tr>\n",
       "      <th>4380</th>\n",
       "      <td>28548970</td>\n",
       "      <td>Rinsing paired-agent model (RPAM) to quantify ...</td>\n",
       "      <td>Conventional molecular assessment of tissue th...</td>\n",
       "      <td>train</td>\n",
       "    </tr>\n",
       "  </tbody>\n",
       "</table>\n",
       "<p>436 rows × 4 columns</p>\n",
       "</div>"
      ],
      "text/plain": [
       "          pmid                                              title  \\\n",
       "13    26944725  Impact of totally laparoscopic combined manage...   \n",
       "17    27086366  The Role of TRAF4 and B3GAT1 Gene Expression i...   \n",
       "47    27237979  MiR-211 is epigenetically regulated by DNMT1 m...   \n",
       "70    27246120  Assessment of laparoscopic stomach preserving ...   \n",
       "87    27252416  Heterogeneous Mechanisms of Primary and Acquir...   \n",
       "...        ...                                                ...   \n",
       "4366  28544601  The impact of noninvasive follicular thyroid n...   \n",
       "4370  28545358  Molecular Imaging of Tumor Angiogenesis and Th...   \n",
       "4372  28545416  The role of Indonesian patients' health behavi...   \n",
       "4379  28548949  Dietary grape seed proanthocyanidins inactivat...   \n",
       "4380  28548970  Rinsing paired-agent model (RPAM) to quantify ...   \n",
       "\n",
       "                                               abstract  split  \n",
       "13    Thanks to widespread diffusion of minimally in...  train  \n",
       "17    Mastocytosis is an uncommon disease classified...  train  \n",
       "47    MiR-211 has strong inhibitive effects on melan...  train  \n",
       "70    Along with the marked increase in early gastri...  train  \n",
       "87    To identify novel mechanisms of resistance to ...  train  \n",
       "...                                                 ...    ...  \n",
       "4366  A recent revision in thyroid tumor nomenclatur...  train  \n",
       "4370  Angiogenesis is critical for the growth of tum...  train  \n",
       "4372  With an estimated 13,000 newly diagnosed patie...  train  \n",
       "4379  Ultraviolet B (UVB) radiation induces regulato...  train  \n",
       "4380  Conventional molecular assessment of tissue th...  train  \n",
       "\n",
       "[436 rows x 4 columns]"
      ]
     },
     "execution_count": 38,
     "metadata": {},
     "output_type": "execute_result"
    }
   ],
   "source": [
    "t191_pmids[t191_pmids['split'] == 'train']"
   ]
  },
  {
   "cell_type": "code",
   "execution_count": null,
   "id": "c5796a58-67c3-46b6-9a41-875a445d1c53",
   "metadata": {},
   "outputs": [],
   "source": []
  }
 ],
 "metadata": {
  "kernelspec": {
   "display_name": "Python 3 (ipykernel)",
   "language": "python",
   "name": "python3"
  },
  "language_info": {
   "codemirror_mode": {
    "name": "ipython",
    "version": 3
   },
   "file_extension": ".py",
   "mimetype": "text/x-python",
   "name": "python",
   "nbconvert_exporter": "python",
   "pygments_lexer": "ipython3",
   "version": "3.10.4"
  }
 },
 "nbformat": 4,
 "nbformat_minor": 5
}
