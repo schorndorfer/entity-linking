{
 "cells": [
  {
   "cell_type": "code",
   "execution_count": 2,
   "id": "771930cb-c7a9-4b56-822d-967080e943d6",
   "metadata": {},
   "outputs": [
    {
     "data": {
      "text/plain": [
       "'1.4.0'"
      ]
     },
     "execution_count": 2,
     "metadata": {},
     "output_type": "execute_result"
    }
   ],
   "source": [
    "import medcat\n",
    "from medcat.cat import CAT\n",
    "medcat.__version__"
   ]
  },
  {
   "cell_type": "code",
   "execution_count": null,
   "id": "8580afdd-9f5b-44fa-9355-9ec3813d9b3b",
   "metadata": {},
   "outputs": [],
   "source": [
    "import scispacy"
   ]
  },
  {
   "cell_type": "code",
   "execution_count": null,
   "id": "84216f0e-16da-4185-b31e-e54fbce429a2",
   "metadata": {},
   "outputs": [],
   "source": [
    "scispacy.__version__"
   ]
  },
  {
   "cell_type": "code",
   "execution_count": null,
   "id": "f062091b-3729-479a-8a87-d70441698bd3",
   "metadata": {},
   "outputs": [],
   "source": []
  }
 ],
 "metadata": {
  "kernelspec": {
   "display_name": "Python 3 (ipykernel)",
   "language": "python",
   "name": "python3"
  },
  "language_info": {
   "codemirror_mode": {
    "name": "ipython",
    "version": 3
   },
   "file_extension": ".py",
   "mimetype": "text/x-python",
   "name": "python",
   "nbconvert_exporter": "python",
   "pygments_lexer": "ipython3",
   "version": "3.10.6"
  }
 },
 "nbformat": 4,
 "nbformat_minor": 5
}
