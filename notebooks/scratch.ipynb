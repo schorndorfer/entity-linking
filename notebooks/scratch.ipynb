{
 "cells": [
  {
   "cell_type": "code",
   "execution_count": 1,
   "id": "7d3c59bd-cbb6-4eb5-8a9e-8ce84d9b2602",
   "metadata": {},
   "outputs": [],
   "source": [
    "import pandas as pd\n",
    "from pathlib import Path"
   ]
  },
  {
   "cell_type": "code",
   "execution_count": 2,
   "id": "e48f4085-d7ee-4141-afb7-563fa229f8ff",
   "metadata": {},
   "outputs": [],
   "source": [
    "noteevents_df = pd.read_parquet(\"../data/noteevents.parquet\")"
   ]
  },
  {
   "cell_type": "code",
   "execution_count": 3,
   "id": "d4e2b2e2-f754-4dbc-836a-2461880e5e26",
   "metadata": {},
   "outputs": [
    {
     "data": {
      "text/html": [
       "<div>\n",
       "<style scoped>\n",
       "    .dataframe tbody tr th:only-of-type {\n",
       "        vertical-align: middle;\n",
       "    }\n",
       "\n",
       "    .dataframe tbody tr th {\n",
       "        vertical-align: top;\n",
       "    }\n",
       "\n",
       "    .dataframe thead th {\n",
       "        text-align: right;\n",
       "    }\n",
       "</style>\n",
       "<table border=\"1\" class=\"dataframe\">\n",
       "  <thead>\n",
       "    <tr style=\"text-align: right;\">\n",
       "      <th></th>\n",
       "      <th>subject_id</th>\n",
       "      <th>chartdate</th>\n",
       "      <th>category</th>\n",
       "      <th>text</th>\n",
       "    </tr>\n",
       "  </thead>\n",
       "  <tbody>\n",
       "    <tr>\n",
       "      <th>0</th>\n",
       "      <td>25188</td>\n",
       "      <td>2152-01-15</td>\n",
       "      <td>Nursing</td>\n",
       "      <td>68yo F w/ significant hx of CAD w/ multiple gr...</td>\n",
       "    </tr>\n",
       "    <tr>\n",
       "      <th>1</th>\n",
       "      <td>2846</td>\n",
       "      <td>2209-02-11</td>\n",
       "      <td>Rehab Services</td>\n",
       "      <td>Subjective:\\n   Objective:\\n   Follow up PT vi...</td>\n",
       "    </tr>\n",
       "    <tr>\n",
       "      <th>2</th>\n",
       "      <td>11638</td>\n",
       "      <td>2180-01-16</td>\n",
       "      <td>Nursing</td>\n",
       "      <td>Pain control (acute pain, chronic pain)\\n   As...</td>\n",
       "    </tr>\n",
       "    <tr>\n",
       "      <th>3</th>\n",
       "      <td>11638</td>\n",
       "      <td>2180-01-16</td>\n",
       "      <td>Nursing</td>\n",
       "      <td>71 F with PMH:  BM stent to LAD '[**64**], Occ...</td>\n",
       "    </tr>\n",
       "    <tr>\n",
       "      <th>4</th>\n",
       "      <td>23642</td>\n",
       "      <td>2140-03-06</td>\n",
       "      <td>Nursing</td>\n",
       "      <td>[**Age over 90 **] year old male patient of Dr...</td>\n",
       "    </tr>\n",
       "  </tbody>\n",
       "</table>\n",
       "</div>"
      ],
      "text/plain": [
       "   subject_id  chartdate        category  \\\n",
       "0       25188 2152-01-15         Nursing   \n",
       "1        2846 2209-02-11  Rehab Services   \n",
       "2       11638 2180-01-16         Nursing   \n",
       "3       11638 2180-01-16         Nursing   \n",
       "4       23642 2140-03-06         Nursing   \n",
       "\n",
       "                                                text  \n",
       "0  68yo F w/ significant hx of CAD w/ multiple gr...  \n",
       "1  Subjective:\\n   Objective:\\n   Follow up PT vi...  \n",
       "2  Pain control (acute pain, chronic pain)\\n   As...  \n",
       "3  71 F with PMH:  BM stent to LAD '[**64**], Occ...  \n",
       "4  [**Age over 90 **] year old male patient of Dr...  "
      ]
     },
     "execution_count": 3,
     "metadata": {},
     "output_type": "execute_result"
    }
   ],
   "source": [
    "noteevents_df.head()"
   ]
  },
  {
   "cell_type": "code",
   "execution_count": null,
   "id": "01ba487b-3266-4f6c-b2b4-3c2e8d3631a6",
   "metadata": {},
   "outputs": [],
   "source": []
  }
 ],
 "metadata": {
  "kernelspec": {
   "display_name": "Python 3 (ipykernel)",
   "language": "python",
   "name": "python3"
  },
  "language_info": {
   "codemirror_mode": {
    "name": "ipython",
    "version": 3
   },
   "file_extension": ".py",
   "mimetype": "text/x-python",
   "name": "python",
   "nbconvert_exporter": "python",
   "pygments_lexer": "ipython3",
   "version": "3.10.4"
  }
 },
 "nbformat": 4,
 "nbformat_minor": 5
}
