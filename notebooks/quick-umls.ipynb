{
 "cells": [
  {
   "cell_type": "code",
   "execution_count": 9,
   "id": "e2ce8d60-8765-49fd-856b-1564553fe93b",
   "metadata": {},
   "outputs": [],
   "source": [
    "import spacy\n",
    "from quickumls import QuickUMLS"
   ]
  },
  {
   "cell_type": "code",
   "execution_count": 11,
   "id": "aa395bbc-0be1-4ac6-9da7-8f6cd13faf80",
   "metadata": {},
   "outputs": [],
   "source": [
    "quick_umls_path = \"/Users/willthompson/Data/UMLS/QuickUMLS\""
   ]
  },
  {
   "cell_type": "code",
   "execution_count": 12,
   "id": "c01bc945-707d-44a0-89e8-4d3162b2f5f4",
   "metadata": {},
   "outputs": [],
   "source": [
    "matcher = QuickUMLS(quick_umls_path)"
   ]
  },
  {
   "cell_type": "code",
   "execution_count": 17,
   "id": "b2f48ec5-54a3-4447-96c4-a8dd46047964",
   "metadata": {},
   "outputs": [
    {
     "data": {
      "text/plain": [
       "[[{'start': 45,\n",
       "   'end': 68,\n",
       "   'ngram': 'trochlea of humerus',\n",
       "   'term': 'Trochlea of humerus',\n",
       "   'cui': 'C0223689',\n",
       "   'similarity': 0.8888888888888888,\n",
       "   'semtypes': {'T023'},\n",
       "   'preferred': 1},\n",
       "  {'start': 45,\n",
       "   'end': 68,\n",
       "   'ngram': 'trochlea of humerus',\n",
       "   'term': 'Trochlea of humerus',\n",
       "   'cui': 'C1281362',\n",
       "   'similarity': 0.8888888888888888,\n",
       "   'semtypes': {'T023'},\n",
       "   'preferred': 1}]]"
      ]
     },
     "execution_count": 17,
     "metadata": {},
     "output_type": "execute_result"
    }
   ],
   "source": [
    "text = \"The ulna has dislocated posteriorly from the trochlea of the humerus.\"\n",
    "matcher.match(text, best_match=True, ignore_syntax=False)"
   ]
  },
  {
   "cell_type": "code",
   "execution_count": null,
   "id": "1e97207d-9378-41e3-9d60-6792d3e84b1e",
   "metadata": {},
   "outputs": [],
   "source": []
  }
 ],
 "metadata": {
  "kernelspec": {
   "display_name": "Python 3 (ipykernel)",
   "language": "python",
   "name": "python3"
  },
  "language_info": {
   "codemirror_mode": {
    "name": "ipython",
    "version": 3
   },
   "file_extension": ".py",
   "mimetype": "text/x-python",
   "name": "python",
   "nbconvert_exporter": "python",
   "pygments_lexer": "ipython3",
   "version": "3.10.6"
  }
 },
 "nbformat": 4,
 "nbformat_minor": 5
}
