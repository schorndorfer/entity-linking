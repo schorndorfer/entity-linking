{
 "cells": [
  {
   "cell_type": "code",
   "execution_count": 1,
   "id": "e2ce8d60-8765-49fd-856b-1564553fe93b",
   "metadata": {},
   "outputs": [],
   "source": [
    "import spacy\n",
    "from quickumls import QuickUMLS"
   ]
  },
  {
   "cell_type": "code",
   "execution_count": 2,
   "id": "aa395bbc-0be1-4ac6-9da7-8f6cd13faf80",
   "metadata": {},
   "outputs": [],
   "source": [
    "quick_umls_path = \"/Users/willthompson/Data/UMLS/QuickUMLS\""
   ]
  },
  {
   "cell_type": "code",
   "execution_count": 31,
   "id": "c01bc945-707d-44a0-89e8-4d3162b2f5f4",
   "metadata": {},
   "outputs": [],
   "source": [
    "# matcher = QuickUMLS(quick_umls_path, accepted_semtypes=['T191'])\n",
    "matcher = QuickUMLS(quick_umls_path)"
   ]
  },
  {
   "cell_type": "code",
   "execution_count": 32,
   "id": "b2f48ec5-54a3-4447-96c4-a8dd46047964",
   "metadata": {},
   "outputs": [
    {
     "data": {
      "text/plain": [
       "[[{'start': 45,\n",
       "   'end': 68,\n",
       "   'ngram': 'trochlea of humerus',\n",
       "   'term': 'Trochlea of humerus',\n",
       "   'cui': 'C0223689',\n",
       "   'similarity': 0.8888888888888888,\n",
       "   'semtypes': {'T023'},\n",
       "   'preferred': 1},\n",
       "  {'start': 45,\n",
       "   'end': 68,\n",
       "   'ngram': 'trochlea of humerus',\n",
       "   'term': 'Trochlea of humerus',\n",
       "   'cui': 'C1281362',\n",
       "   'similarity': 0.8888888888888888,\n",
       "   'semtypes': {'T023'},\n",
       "   'preferred': 1}]]"
      ]
     },
     "execution_count": 32,
     "metadata": {},
     "output_type": "execute_result"
    }
   ],
   "source": [
    "text = \"The ulna has dislocated posteriorly from the trochlea of the humerus.\"\n",
    "matcher.match(text, best_match=True, ignore_syntax=False)"
   ]
  },
  {
   "cell_type": "code",
   "execution_count": 33,
   "id": "de6f127d-d80d-41fa-b400-6d92b40e0497",
   "metadata": {},
   "outputs": [],
   "source": [
    "text = \"\"\"\n",
    "A & B. Right frontal tumor, biopsy and resection:\n",
    "? Recurrent glioblastoma, IDH mutant, WHO grade IV, with treatment effect (see comment).\n",
    "? Treatment related necrosis represents approximately 5-10% of tissue.\n",
    "? MGMT promoter methylation test and Oncoscan ordered; see separate molecular reports for result.\n",
    "? GlioSeq ordered and result will be reported in an addendum.\n",
    "\n",
    "Comment: Sections show a highly cellular tumor composed of atypical cells with angulated nuclei. Microvascular proliferation and scattered mitoses are noted. Also present are therapy related changes, including vascular hyalinization and necrosis, representing approximately 5-10% of tissue. Immunohistochemical stains have been performed on block B1 and the results are as follows.\n",
    "\n",
    "IDH1 R132H: positive in tumor cells\n",
    "ATRX: negative in tumor cells\n",
    "P53: strongly positive in more than 80% of tumor cells\n",
    "Ki-67: proliferative index of about 40%\n",
    "\n",
    "This test was developed and its performance characteristics were determined by the Northwestern Memorial Hospital Immunohistochemistry Laboratory. It has not been cleared or approved by the U.S. Food and Drug Administration. The FDA has determined that such clearance or approval is not necessary. This test is used for clinical purposes. It should not be regarded as investigational or for research. This laboratory is certified under the Clinical Laboratory Improvement Amendments of 1988 (CLIA-88) as qualified to perform high complex clinical laboratory testing.\n",
    "\n",
    "The positive controls demonstrate appropriate positive staining. The known tissue negative controls are negative. The non-immune serum control was non-reactive.\n",
    "\n",
    "----------------------------------\n",
    "Addendum\n",
    "----------------------------------\n",
    "This tumor was analyzed by Tempus NGS, which detected a hypermutator profile in this IDH1-mutant glioblastoma, including mutations in TP53, PTEN, ATRX, and SPEN, as well as copy number losses in CDKN2A/B and MTAP. Tumor mutational burden is 20.8/Mb.\n",
    "\n",
    "The hypermutator profile is common in recurrent IDH-mutant gliomas after treatment with alkylator chemotherapy; such tumors may respond better to immune checkpoint inhibitors.\n",
    "\n",
    "References:\n",
    "1. Yip S, Miao J, Cahill DP, Iafrate AJ, Aldape K, Nutt CL, Louis DN. MSH6 mutations arise in glioblastomas during temozolomide therapy and mediate temozolomide resistance. Clin Cancer Res. 2009 Jul 15;15(14):4622-9. doi: 10.1158/1078-0432.CCR-08-3012. Epub 2009 Jul 7.\n",
    "2. Hunter C, et al. A hypermutation phenotype and somatic MSH6 mutations in recurrent human malignant gliomas after alkylator chemotherapy. Cancer Res. 2006 Apr 15;66(8):3987-91.\n",
    "3. van Thuijl HF, et al. Evolution of DNA repair defects during malignant progression of low-grade gliomas after temozolomide treatment. Acta Neuropathol. 2015 Apr;129(4):597-607. doi: 10.1007/s00401-015-1403-6.\n",
    "4. Hodges TR, Ott M, Xiu J, Gatalica Z, Swensen J, Zhou S, Huse JT, de Groot J, Li S, Overwijk WW, Spetzler D, Heimberger AB. Mutational burden, immune checkpoint expression, and mismatch repair in glioma: implications for immune checkpoint immunotherapy. Neuro Oncol. 2017 Aug 1;19(8):1047-1057.\n",
    "\n",
    "----------------------------------\n",
    "Addendum\n",
    "----------------------------------\n",
    "This tumor was analyzed by GlioSeq NGS, which detected mutations in IDH1, TP53, and PTEN, as well as copy number losses in CDKN2A, PTEN, and RB1. These findings are consistent with the histologic diagnosis of an IDH-mutant glioblastoma.\n",
    "\n",
    "Reference:\n",
    "Nikiforova MN, Wald AI, Melan MA, Roy S, Zhong S, Hamilton RL, Lieberman FS, Drappatz J, Amankulor NM, Pollack IF, Nikiforov YE, Horbinski C. Targeted next-generation sequencing panel (GlioSeq) provides comprehensive genetic profiling of central nervous system tumors. Neuro Oncol. 2016 Mar;18(3):379-87.\"\"\""
   ]
  },
  {
   "cell_type": "code",
   "execution_count": 65,
   "id": "098a9b5e-f896-40b7-83b0-8658477cec70",
   "metadata": {},
   "outputs": [],
   "source": [
    "text = \"Ductal carcinoma in situ\""
   ]
  },
  {
   "cell_type": "code",
   "execution_count": 66,
   "id": "1e97207d-9378-41e3-9d60-6792d3e84b1e",
   "metadata": {},
   "outputs": [],
   "source": [
    "matches = matcher.match(text, best_match=False, ignore_syntax=False)"
   ]
  },
  {
   "cell_type": "code",
   "execution_count": 67,
   "id": "85c75439-3530-4aed-a364-4f372f6134bc",
   "metadata": {},
   "outputs": [
    {
     "name": "stdout",
     "output_type": "stream",
     "text": [
      "{'start': 0, 'end': 24, 'ngram': 'Ductal carcinoma in situ', 'term': 'Ductal carcinoma in situ', 'cui': 'C0007124', 'similarity': 1.0, 'semtypes': {'T191'}, 'preferred': 0}\n"
     ]
    }
   ],
   "source": [
    "for m in matches:\n",
    "    for n in m:\n",
    "        print(n)"
   ]
  },
  {
   "cell_type": "code",
   "execution_count": null,
   "id": "44841247-1533-4b96-9011-2aaa160110d9",
   "metadata": {},
   "outputs": [],
   "source": []
  },
  {
   "cell_type": "code",
   "execution_count": null,
   "id": "7ddc66ff-bc59-4d0b-b3c9-f1761640a628",
   "metadata": {},
   "outputs": [],
   "source": []
  }
 ],
 "metadata": {
  "kernelspec": {
   "display_name": "Python 3 (ipykernel)",
   "language": "python",
   "name": "python3"
  },
  "language_info": {
   "codemirror_mode": {
    "name": "ipython",
    "version": 3
   },
   "file_extension": ".py",
   "mimetype": "text/x-python",
   "name": "python",
   "nbconvert_exporter": "python",
   "pygments_lexer": "ipython3",
   "version": "3.10.6"
  }
 },
 "nbformat": 4,
 "nbformat_minor": 5
}
