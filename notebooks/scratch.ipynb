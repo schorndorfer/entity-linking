{
 "cells": [
  {
   "cell_type": "code",
   "execution_count": 1,
   "id": "01ba487b-3266-4f6c-b2b4-3c2e8d3631a6",
   "metadata": {},
   "outputs": [
    {
     "name": "stderr",
     "output_type": "stream",
     "text": [
      "/Users/willthompson/miniconda3/envs/entity-linking/lib/python3.10/site-packages/tqdm/auto.py:22: TqdmWarning: IProgress not found. Please update jupyter and ipywidgets. See https://ipywidgets.readthedocs.io/en/stable/user_install.html\n",
      "  from .autonotebook import tqdm as notebook_tqdm\n"
     ]
    }
   ],
   "source": [
    "import torch as pt"
   ]
  },
  {
   "cell_type": "code",
   "execution_count": 13,
   "id": "bfb8e3b2-3520-4339-8e18-c3c0c5489604",
   "metadata": {},
   "outputs": [],
   "source": [
    "X = pt.randint(10, (4,3)).float()\n",
    "w = pt.tensor([2., 2., 2.], requires_grad=True)\n",
    "b = 1\n",
    "y = 10"
   ]
  },
  {
   "cell_type": "code",
   "execution_count": 14,
   "id": "7bacf896-6d5d-43fb-8451-395bf93b921c",
   "metadata": {},
   "outputs": [
    {
     "data": {
      "text/plain": [
       "tensor([[4., 7., 3.],\n",
       "        [4., 9., 7.],\n",
       "        [3., 4., 3.],\n",
       "        [1., 3., 2.]])"
      ]
     },
     "execution_count": 14,
     "metadata": {},
     "output_type": "execute_result"
    }
   ],
   "source": [
    "X"
   ]
  },
  {
   "cell_type": "code",
   "execution_count": 15,
   "id": "0ce4b0b6-ccc0-408e-88f2-4c91cea70711",
   "metadata": {},
   "outputs": [],
   "source": [
    "l = ((y - (pt.matmul(X, w) + b))**2 / 2).sum() / X.shape[0]"
   ]
  },
  {
   "cell_type": "code",
   "execution_count": 16,
   "id": "33e1fa45-5519-4215-a8df-ce7344ad557c",
   "metadata": {},
   "outputs": [],
   "source": [
    "l.backward()"
   ]
  },
  {
   "cell_type": "code",
   "execution_count": 17,
   "id": "c7aa2476-a9d7-4007-8fa0-92c5c5517e4f",
   "metadata": {},
   "outputs": [
    {
     "data": {
      "text/plain": [
       "tensor([ 59.0000, 116.2500,  78.2500])"
      ]
     },
     "execution_count": 17,
     "metadata": {},
     "output_type": "execute_result"
    }
   ],
   "source": [
    "w.grad"
   ]
  },
  {
   "cell_type": "code",
   "execution_count": 32,
   "id": "8264d82e-9982-429d-bcfe-62950d97fbb3",
   "metadata": {},
   "outputs": [
    {
     "name": "stdout",
     "output_type": "stream",
     "text": [
      "tensor([ 76., 133.,  57.])\n",
      "tensor([124., 279., 217.])\n",
      "tensor([33., 44., 33.])\n",
      "tensor([3., 9., 6.])\n"
     ]
    }
   ],
   "source": [
    "grads = []\n",
    "for i in range(X.shape[0]):\n",
    "    x = X[i,:]\n",
    "    w = pt.tensor([2., 2., 2.], requires_grad=True)\n",
    "    b = 1\n",
    "    l = ((y - (pt.matmul(x, w) + b))**2 / 2)\n",
    "    l.backward()\n",
    "    print(w.grad)\n",
    "    grads.append(w.grad)"
   ]
  },
  {
   "cell_type": "code",
   "execution_count": 37,
   "id": "c32aee3f-eadd-43bb-9026-f4bee31f7884",
   "metadata": {},
   "outputs": [
    {
     "data": {
      "text/plain": [
       "tensor([ 59.0000, 116.2500,  78.2500])"
      ]
     },
     "execution_count": 37,
     "metadata": {},
     "output_type": "execute_result"
    }
   ],
   "source": [
    "pt.stack(grads).sum(0) / 4"
   ]
  },
  {
   "cell_type": "code",
   "execution_count": 67,
   "id": "392e1fd9-b20f-409d-b749-c1cb05082d4c",
   "metadata": {},
   "outputs": [
    {
     "data": {
      "text/plain": [
       "tensor([[2., 3., 2.],\n",
       "        [1., 3., 1.],\n",
       "        [2., 2., 2.]], requires_grad=True)"
      ]
     },
     "execution_count": 67,
     "metadata": {},
     "output_type": "execute_result"
    }
   ],
   "source": [
    "X = pt.Tensor([\n",
    "    [1., 1., 2.],\n",
    "    [3., 2., 3.],\n",
    "    [1., 2., 2.],\n",
    "    [2., 1., 3.]\n",
    "])\n",
    "x = X[0,:]\n",
    "w = pt.tensor([2., 2., 2.], requires_grad=True)\n",
    "b = 1\n",
    "y = 10\n",
    "W = pt.Tensor([\n",
    "    [2., 3., 2.],\n",
    "    [1., 3., 1.],\n",
    "    [2., 2., 2.]\n",
    "])\n",
    "W.requires_grad_(True)"
   ]
  },
  {
   "cell_type": "code",
   "execution_count": 69,
   "id": "54f3d5bb-40d7-4148-8fcb-861fd11057e5",
   "metadata": {},
   "outputs": [],
   "source": [
    "u = pt.matmul(W, x)"
   ]
  },
  {
   "cell_type": "code",
   "execution_count": 70,
   "id": "692ace66-9237-400b-bef2-099f92b7ef3a",
   "metadata": {},
   "outputs": [],
   "source": [
    "y = pt.matmul(w, u)"
   ]
  },
  {
   "cell_type": "code",
   "execution_count": 72,
   "id": "c0c3b8d0-9724-4ca4-b0d4-6288bdc93e06",
   "metadata": {},
   "outputs": [],
   "source": [
    "y.backward()"
   ]
  },
  {
   "cell_type": "code",
   "execution_count": 73,
   "id": "83e8bfea-2f03-4c9a-8062-8ccc8dac4a3f",
   "metadata": {},
   "outputs": [
    {
     "data": {
      "text/plain": [
       "tensor([[2., 2., 4.],\n",
       "        [2., 2., 4.],\n",
       "        [2., 2., 4.]])"
      ]
     },
     "execution_count": 73,
     "metadata": {},
     "output_type": "execute_result"
    }
   ],
   "source": [
    "W.grad"
   ]
  },
  {
   "cell_type": "code",
   "execution_count": 74,
   "id": "2600c2f9-b388-44d3-a84f-a1dff25ac71e",
   "metadata": {},
   "outputs": [
    {
     "data": {
      "text/plain": [
       "tensor([9., 6., 8.])"
      ]
     },
     "execution_count": 74,
     "metadata": {},
     "output_type": "execute_result"
    }
   ],
   "source": [
    "w.grad"
   ]
  },
  {
   "cell_type": "code",
   "execution_count": null,
   "id": "0f5c57a1-0fe7-4500-9d4e-cc5f4a04c239",
   "metadata": {},
   "outputs": [],
   "source": []
  },
  {
   "cell_type": "code",
   "execution_count": null,
   "id": "f034665a-b497-4f5a-9190-89c4a656bc48",
   "metadata": {},
   "outputs": [],
   "source": []
  }
 ],
 "metadata": {
  "kernelspec": {
   "display_name": "Python 3 (ipykernel)",
   "language": "python",
   "name": "python3"
  },
  "language_info": {
   "codemirror_mode": {
    "name": "ipython",
    "version": 3
   },
   "file_extension": ".py",
   "mimetype": "text/x-python",
   "name": "python",
   "nbconvert_exporter": "python",
   "pygments_lexer": "ipython3",
   "version": "3.10.6"
  }
 },
 "nbformat": 4,
 "nbformat_minor": 5
}
