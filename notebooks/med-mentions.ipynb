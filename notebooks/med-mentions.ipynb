{
 "cells": [
  {
   "cell_type": "code",
   "execution_count": 1,
   "id": "3240f79f-f4ce-4829-96fa-ab718c0fb3d5",
   "metadata": {},
   "outputs": [
    {
     "name": "stdout",
     "output_type": "stream",
     "text": [
      "CONFIG_FILE_PATH: /home/wkt406/miniconda3/envs/torch-env/lib/python3.10/site-packages/elinker/data/config.yml\n"
     ]
    }
   ],
   "source": [
    "from pathlib import Path\n",
    "import pandas as pd\n",
    "import elinker"
   ]
  },
  {
   "cell_type": "markdown",
   "id": "a40bbe1b-3911-4c90-8e52-762d5c2b1226",
   "metadata": {},
   "source": [
    "# Read in Data"
   ]
  },
  {
   "cell_type": "code",
   "execution_count": 2,
   "id": "90192c2e-cb7f-48a3-8ad3-e8ea864f0d60",
   "metadata": {},
   "outputs": [],
   "source": [
    "base_path = Path(\"../data/MedMentions\")"
   ]
  },
  {
   "cell_type": "code",
   "execution_count": 3,
   "id": "79bbdf5e-5f21-41aa-81cb-8ae7f61c0875",
   "metadata": {},
   "outputs": [],
   "source": [
    "med_mentions = elinker.datasets.med_mentions(base_path/\"full/data/corpus_pubtator.txt\")\n",
    "doc_df = med_mentions[0]\n",
    "mention_df = med_mentions[1]"
   ]
  },
  {
   "cell_type": "code",
   "execution_count": 4,
   "id": "62413af7-d15e-4de9-b402-8fae42136455",
   "metadata": {},
   "outputs": [
    {
     "data": {
      "text/html": [
       "<div>\n",
       "<style scoped>\n",
       "    .dataframe tbody tr th:only-of-type {\n",
       "        vertical-align: middle;\n",
       "    }\n",
       "\n",
       "    .dataframe tbody tr th {\n",
       "        vertical-align: top;\n",
       "    }\n",
       "\n",
       "    .dataframe thead th {\n",
       "        text-align: right;\n",
       "    }\n",
       "</style>\n",
       "<table border=\"1\" class=\"dataframe\">\n",
       "  <thead>\n",
       "    <tr style=\"text-align: right;\">\n",
       "      <th></th>\n",
       "      <th>pmid</th>\n",
       "      <th>start_index</th>\n",
       "      <th>end_index</th>\n",
       "      <th>text_segment</th>\n",
       "      <th>sem_type_id</th>\n",
       "      <th>entity_id</th>\n",
       "    </tr>\n",
       "  </thead>\n",
       "  <tbody>\n",
       "    <tr>\n",
       "      <th>764</th>\n",
       "      <td>26876532</td>\n",
       "      <td>49</td>\n",
       "      <td>70</td>\n",
       "      <td>parathyroid neoplasms</td>\n",
       "      <td>T191</td>\n",
       "      <td>C0030521</td>\n",
       "    </tr>\n",
       "    <tr>\n",
       "      <th>771</th>\n",
       "      <td>26876532</td>\n",
       "      <td>164</td>\n",
       "      <td>183</td>\n",
       "      <td>parathyroid adenoma</td>\n",
       "      <td>T191</td>\n",
       "      <td>C0262587</td>\n",
       "    </tr>\n",
       "    <tr>\n",
       "      <th>780</th>\n",
       "      <td>26876532</td>\n",
       "      <td>308</td>\n",
       "      <td>327</td>\n",
       "      <td>parathyroid adenoma</td>\n",
       "      <td>T191</td>\n",
       "      <td>C0262587</td>\n",
       "    </tr>\n",
       "    <tr>\n",
       "      <th>785</th>\n",
       "      <td>26876532</td>\n",
       "      <td>408</td>\n",
       "      <td>425</td>\n",
       "      <td>malignant tumours</td>\n",
       "      <td>T191</td>\n",
       "      <td>C0006826</td>\n",
       "    </tr>\n",
       "    <tr>\n",
       "      <th>789</th>\n",
       "      <td>26876532</td>\n",
       "      <td>527</td>\n",
       "      <td>545</td>\n",
       "      <td>parathyroid tumour</td>\n",
       "      <td>T191</td>\n",
       "      <td>C0030521</td>\n",
       "    </tr>\n",
       "  </tbody>\n",
       "</table>\n",
       "</div>"
      ],
      "text/plain": [
       "         pmid start_index end_index           text_segment sem_type_id  \\\n",
       "764  26876532          49        70  parathyroid neoplasms        T191   \n",
       "771  26876532         164       183    parathyroid adenoma        T191   \n",
       "780  26876532         308       327    parathyroid adenoma        T191   \n",
       "785  26876532         408       425      malignant tumours        T191   \n",
       "789  26876532         527       545     parathyroid tumour        T191   \n",
       "\n",
       "    entity_id  \n",
       "764  C0030521  \n",
       "771  C0262587  \n",
       "780  C0262587  \n",
       "785  C0006826  \n",
       "789  C0030521  "
      ]
     },
     "execution_count": 4,
     "metadata": {},
     "output_type": "execute_result"
    }
   ],
   "source": [
    "mention_df[mention_df[\"sem_type_id\"] == 'T191'].head()"
   ]
  },
  {
   "cell_type": "markdown",
   "id": "7cfd7979-71cc-49d9-b4df-d14ba62dfc29",
   "metadata": {},
   "source": [
    "# Assign each PMID to dev, test, or training"
   ]
  },
  {
   "cell_type": "code",
   "execution_count": 5,
   "id": "0f0d913f-f582-4ed6-985b-4ffc632167bf",
   "metadata": {},
   "outputs": [],
   "source": [
    "with open(base_path/\"full/data/corpus_pubtator_pmids_all.txt\") as file:\n",
    "    lines = file.readlines()\n",
    "    all_pmids = [line.rstrip() for line in lines]\n",
    "    \n",
    "with open(base_path/\"full/data/corpus_pubtator_pmids_dev.txt\") as file:\n",
    "    lines = file.readlines()\n",
    "    dev_pmids = [line.rstrip() for line in lines]\n",
    "    \n",
    "with open(base_path/\"full/data/corpus_pubtator_pmids_test.txt\") as file:\n",
    "    lines = file.readlines()\n",
    "    test_pmids = [line.rstrip() for line in lines]\n",
    "    \n",
    "with open(base_path/\"full/data/corpus_pubtator_pmids_trng.txt\") as file:\n",
    "    lines = file.readlines()\n",
    "    train_pmids = [line.rstrip() for line in lines]"
   ]
  },
  {
   "cell_type": "code",
   "execution_count": 6,
   "id": "9eafa853-af13-47e7-8e54-c539947e05bb",
   "metadata": {},
   "outputs": [],
   "source": [
    "doc_df['split'] = None\n",
    "doc_df.loc[doc_df.pmid.isin(train_pmids), 'split'] = 'train'\n",
    "doc_df.loc[doc_df.pmid.isin(dev_pmids), 'split'] = 'dev'\n",
    "doc_df.loc[doc_df.pmid.isin(test_pmids), 'split'] = 'test'"
   ]
  },
  {
   "cell_type": "code",
   "execution_count": 7,
   "id": "b4b8f69d-47fd-4870-8d44-c5f6a93b4587",
   "metadata": {},
   "outputs": [
    {
     "data": {
      "text/plain": [
       "train    2635\n",
       "test      879\n",
       "dev       878\n",
       "Name: split, dtype: int64"
      ]
     },
     "execution_count": 7,
     "metadata": {},
     "output_type": "execute_result"
    }
   ],
   "source": [
    "doc_df['split'].value_counts()"
   ]
  },
  {
   "cell_type": "code",
   "execution_count": 8,
   "id": "129b5fc2-2651-4d6b-a3d2-3e043413941b",
   "metadata": {},
   "outputs": [],
   "source": [
    "doc_df.to_parquet(base_path/\"doc.parquet\", index=False)\n",
    "mention_df.to_parquet(base_path/\"mention.parquet\", index=False)"
   ]
  },
  {
   "cell_type": "markdown",
   "id": "3432af80-9e77-437a-8a14-dbbeeb71c74c",
   "metadata": {},
   "source": [
    "# Read Parquet Files"
   ]
  },
  {
   "cell_type": "code",
   "execution_count": 9,
   "id": "7b94966a-25d8-4f89-adc5-6433159d944d",
   "metadata": {},
   "outputs": [],
   "source": [
    "doc_df2 = pd.read_parquet(base_path/\"doc.parquet\")\n",
    "mention_df2 = pd.read_parquet(base_path/\"mention.parquet\")"
   ]
  },
  {
   "cell_type": "code",
   "execution_count": 10,
   "id": "4a056795-a1a4-4243-8019-b6a3f14e4209",
   "metadata": {},
   "outputs": [
    {
     "data": {
      "text/html": [
       "<div>\n",
       "<style scoped>\n",
       "    .dataframe tbody tr th:only-of-type {\n",
       "        vertical-align: middle;\n",
       "    }\n",
       "\n",
       "    .dataframe tbody tr th {\n",
       "        vertical-align: top;\n",
       "    }\n",
       "\n",
       "    .dataframe thead th {\n",
       "        text-align: right;\n",
       "    }\n",
       "</style>\n",
       "<table border=\"1\" class=\"dataframe\">\n",
       "  <thead>\n",
       "    <tr style=\"text-align: right;\">\n",
       "      <th></th>\n",
       "      <th>pmid</th>\n",
       "      <th>title</th>\n",
       "      <th>abstract</th>\n",
       "      <th>split</th>\n",
       "    </tr>\n",
       "  </thead>\n",
       "  <tbody>\n",
       "    <tr>\n",
       "      <th>0</th>\n",
       "      <td>25763772</td>\n",
       "      <td>DCTN4 as a modifier of chronic Pseudomonas aer...</td>\n",
       "      <td>Pseudomonas aeruginosa (Pa) infection in cysti...</td>\n",
       "      <td>train</td>\n",
       "    </tr>\n",
       "    <tr>\n",
       "      <th>1</th>\n",
       "      <td>25847295</td>\n",
       "      <td>Nonylphenol diethoxylate inhibits apoptosis in...</td>\n",
       "      <td>Nonylphenol and short-chain nonylphenol ethoxy...</td>\n",
       "      <td>test</td>\n",
       "    </tr>\n",
       "    <tr>\n",
       "      <th>2</th>\n",
       "      <td>26316050</td>\n",
       "      <td>Prevascularized silicon membranes for the enha...</td>\n",
       "      <td>Recent advances in drug delivery and sensing d...</td>\n",
       "      <td>train</td>\n",
       "    </tr>\n",
       "    <tr>\n",
       "      <th>3</th>\n",
       "      <td>26406200</td>\n",
       "      <td>Seated maximum flexion: An alternative to stan...</td>\n",
       "      <td>The flexion - relaxation phenomenon (FRP) in s...</td>\n",
       "      <td>train</td>\n",
       "    </tr>\n",
       "    <tr>\n",
       "      <th>4</th>\n",
       "      <td>26424709</td>\n",
       "      <td>The Relationship Between Distance and Post-ope...</td>\n",
       "      <td>To date, there is no research on voluntary med...</td>\n",
       "      <td>train</td>\n",
       "    </tr>\n",
       "  </tbody>\n",
       "</table>\n",
       "</div>"
      ],
      "text/plain": [
       "       pmid                                              title  \\\n",
       "0  25763772  DCTN4 as a modifier of chronic Pseudomonas aer...   \n",
       "1  25847295  Nonylphenol diethoxylate inhibits apoptosis in...   \n",
       "2  26316050  Prevascularized silicon membranes for the enha...   \n",
       "3  26406200  Seated maximum flexion: An alternative to stan...   \n",
       "4  26424709  The Relationship Between Distance and Post-ope...   \n",
       "\n",
       "                                            abstract  split  \n",
       "0  Pseudomonas aeruginosa (Pa) infection in cysti...  train  \n",
       "1  Nonylphenol and short-chain nonylphenol ethoxy...   test  \n",
       "2  Recent advances in drug delivery and sensing d...  train  \n",
       "3  The flexion - relaxation phenomenon (FRP) in s...  train  \n",
       "4  To date, there is no research on voluntary med...  train  "
      ]
     },
     "execution_count": 10,
     "metadata": {},
     "output_type": "execute_result"
    }
   ],
   "source": [
    "doc_df2.head()"
   ]
  },
  {
   "cell_type": "code",
   "execution_count": 11,
   "id": "901a65a9-3747-4da0-ae20-bd4d8d822011",
   "metadata": {},
   "outputs": [
    {
     "data": {
      "text/html": [
       "<div>\n",
       "<style scoped>\n",
       "    .dataframe tbody tr th:only-of-type {\n",
       "        vertical-align: middle;\n",
       "    }\n",
       "\n",
       "    .dataframe tbody tr th {\n",
       "        vertical-align: top;\n",
       "    }\n",
       "\n",
       "    .dataframe thead th {\n",
       "        text-align: right;\n",
       "    }\n",
       "</style>\n",
       "<table border=\"1\" class=\"dataframe\">\n",
       "  <thead>\n",
       "    <tr style=\"text-align: right;\">\n",
       "      <th></th>\n",
       "      <th>pmid</th>\n",
       "      <th>start_index</th>\n",
       "      <th>end_index</th>\n",
       "      <th>text_segment</th>\n",
       "      <th>sem_type_id</th>\n",
       "      <th>entity_id</th>\n",
       "    </tr>\n",
       "  </thead>\n",
       "  <tbody>\n",
       "    <tr>\n",
       "      <th>0</th>\n",
       "      <td>25763772</td>\n",
       "      <td>0</td>\n",
       "      <td>5</td>\n",
       "      <td>DCTN4</td>\n",
       "      <td>T116,T123</td>\n",
       "      <td>C4308010</td>\n",
       "    </tr>\n",
       "    <tr>\n",
       "      <th>1</th>\n",
       "      <td>25763772</td>\n",
       "      <td>23</td>\n",
       "      <td>63</td>\n",
       "      <td>chronic Pseudomonas aeruginosa infection</td>\n",
       "      <td>T047</td>\n",
       "      <td>C0854135</td>\n",
       "    </tr>\n",
       "    <tr>\n",
       "      <th>2</th>\n",
       "      <td>25763772</td>\n",
       "      <td>67</td>\n",
       "      <td>82</td>\n",
       "      <td>cystic fibrosis</td>\n",
       "      <td>T047</td>\n",
       "      <td>C0010674</td>\n",
       "    </tr>\n",
       "    <tr>\n",
       "      <th>3</th>\n",
       "      <td>25763772</td>\n",
       "      <td>83</td>\n",
       "      <td>120</td>\n",
       "      <td>Pseudomonas aeruginosa (Pa) infection</td>\n",
       "      <td>T047</td>\n",
       "      <td>C0854135</td>\n",
       "    </tr>\n",
       "    <tr>\n",
       "      <th>4</th>\n",
       "      <td>25763772</td>\n",
       "      <td>124</td>\n",
       "      <td>139</td>\n",
       "      <td>cystic fibrosis</td>\n",
       "      <td>T047</td>\n",
       "      <td>C0010674</td>\n",
       "    </tr>\n",
       "  </tbody>\n",
       "</table>\n",
       "</div>"
      ],
      "text/plain": [
       "       pmid start_index end_index                              text_segment  \\\n",
       "0  25763772           0         5                                     DCTN4   \n",
       "1  25763772          23        63  chronic Pseudomonas aeruginosa infection   \n",
       "2  25763772          67        82                           cystic fibrosis   \n",
       "3  25763772          83       120     Pseudomonas aeruginosa (Pa) infection   \n",
       "4  25763772         124       139                           cystic fibrosis   \n",
       "\n",
       "  sem_type_id entity_id  \n",
       "0   T116,T123  C4308010  \n",
       "1        T047  C0854135  \n",
       "2        T047  C0010674  \n",
       "3        T047  C0854135  \n",
       "4        T047  C0010674  "
      ]
     },
     "execution_count": 11,
     "metadata": {},
     "output_type": "execute_result"
    }
   ],
   "source": [
    "mention_df2.head()"
   ]
  },
  {
   "cell_type": "code",
   "execution_count": null,
   "id": "0e505dcf-5b43-487c-ad50-a88ea128bd2a",
   "metadata": {},
   "outputs": [],
   "source": []
  }
 ],
 "metadata": {
  "kernelspec": {
   "display_name": "Python 3 (ipykernel)",
   "language": "python",
   "name": "python3"
  },
  "language_info": {
   "codemirror_mode": {
    "name": "ipython",
    "version": 3
   },
   "file_extension": ".py",
   "mimetype": "text/x-python",
   "name": "python",
   "nbconvert_exporter": "python",
   "pygments_lexer": "ipython3",
   "version": "3.10.4"
  }
 },
 "nbformat": 4,
 "nbformat_minor": 5
}
